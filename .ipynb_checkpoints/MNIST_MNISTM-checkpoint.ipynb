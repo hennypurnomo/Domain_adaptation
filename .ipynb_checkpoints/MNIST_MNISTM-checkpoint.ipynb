{
 "cells": [
  {
   "cell_type": "code",
   "execution_count": 1,
   "metadata": {},
   "outputs": [
    {
     "name": "stderr",
     "output_type": "stream",
     "text": [
      "Using TensorFlow backend.\n"
     ]
    }
   ],
   "source": [
    "# this main code by Ssamot from https://github.com/ssamot/infoGA/blob/master/mnist_snes_example.py\n",
    "# plot loss function from https://machinelearningmastery.com/display-deep-learning-model-training-history-in-keras/\n",
    "\n",
    "import pickle as pkl\n",
    "import numpy as np\n",
    "import matplotlib.pyplot as plt\n",
    "\n",
    "from timeit import default_timer as timer\n",
    "from keras import backend as K\n",
    "from keras.datasets import mnist\n",
    "from keras.layers import Conv2D, MaxPooling2D\n",
    "from keras.layers import Dense, Flatten\n",
    "from keras.models import Sequential\n",
    "from sklearn.ensemble import RandomForestClassifier\n",
    "from sklearn.metrics import accuracy_score\n",
    "from sklearn.metrics import mean_squared_error\n",
    "from keras_helper import NNWeightHelper\n",
    "from keras.utils import np_utils\n",
    "from snes import SNES"
   ]
  },
  {
   "cell_type": "code",
   "execution_count": 2,
   "metadata": {},
   "outputs": [],
   "source": [
    "# use just a small sample of the train set to test\n",
    "SAMPLE_SIZE = 400\n",
    "# how many different sets of weights ask() should return for evaluation\n",
    "POPULATION_SIZE = 10\n",
    "# how many times we will loop over ask()/tell()\n",
    "GENERATIONS = 30"
   ]
  },
  {
   "cell_type": "code",
   "execution_count": 3,
   "metadata": {},
   "outputs": [],
   "source": [
    "def train_classifier(model, X, y):\n",
    "    X_features = model.predict(X)\n",
    "    clf = RandomForestClassifier(n_estimators = 10)\n",
    "    clf.fit(X_features, y)\n",
    "    y_pred = clf.predict(X_features)\n",
    "    return clf, y_pred\n",
    "\n",
    "\n",
    "def predict_classifier(model, clf, X):\n",
    "    X_features = model.predict(X)\n",
    "    return clf.predict(X_features)"
   ]
  },
  {
   "cell_type": "code",
   "execution_count": 4,
   "metadata": {},
   "outputs": [],
   "source": [
    "# input image dimensions\n",
    "img_rows, img_cols = 28, 28\n",
    "num_classes = 10"
   ]
  },
  {
   "cell_type": "code",
   "execution_count": 5,
   "metadata": {},
   "outputs": [],
   "source": [
    "# Load MNIST dataset from keras for source domain\n",
    "(x_train, y_train), (x_test, y_test) = mnist.load_data()\n",
    "x_train = x_train.reshape(60000, 28, 28, 1).astype(np.uint8) * 255\n",
    "x_train = np.concatenate([x_train, x_train, x_train], 3)"
   ]
  },
  {
   "cell_type": "code",
   "execution_count": 6,
   "metadata": {},
   "outputs": [],
   "source": [
    "# Load MNIST-M dataset for target domain\n",
    "mnistm = pkl.load(open('mnistm_data.pkl', 'rb'))\n",
    "mnistm_train = mnistm['train']\n",
    "mnistm_test = mnistm['test']\n",
    "mnistm_valid = mnistm['valid']\n",
    "x_test=mnistm_test"
   ]
  },
  {
   "cell_type": "code",
   "execution_count": 7,
   "metadata": {},
   "outputs": [],
   "source": [
    "# create part data for domain classifier, combination from source and target data\n",
    "x_domain=np.concatenate((x_train,x_test), axis =0)\n",
    "y_domain = np.concatenate((np.zeros(y_train.shape[0]), np.ones(y_test.shape[0])),axis=0)"
   ]
  },
  {
   "cell_type": "code",
   "execution_count": 8,
   "metadata": {},
   "outputs": [],
   "source": [
    "#data normalization\n",
    "x_train = x_train.astype('float32')\n",
    "x_test = x_test.astype('float32')\n",
    "x_train /= 255\n",
    "x_test /= 255"
   ]
  },
  {
   "cell_type": "code",
   "execution_count": 9,
   "metadata": {},
   "outputs": [
    {
     "name": "stdout",
     "output_type": "stream",
     "text": [
      "compilation is over\n"
     ]
    }
   ],
   "source": [
    "# neural network architecture\n",
    "model = Sequential()\n",
    "model.add(Conv2D(32, kernel_size=(5, 5),activation='relu',\n",
    "                 input_shape=(28,28,3)))\n",
    "model.add(MaxPooling2D(pool_size=(2, 2)))\n",
    "model.add(Conv2D(32, (5, 5), activation='relu'))\n",
    "model.add(MaxPooling2D(pool_size=(2, 2)))\n",
    "model.add(Flatten())\n",
    "model.add(Dense(50, activation='relu'))\n",
    "\n",
    "# this is irrelevant for what we want to achieve\n",
    "model.compile(loss=\"mse\", optimizer=\"adam\")\n",
    "print(\"compilation is over\")\n",
    "nnw = NNWeightHelper(model)\n",
    "weights = nnw.get_weights()"
   ]
  },
  {
   "cell_type": "code",
   "execution_count": 10,
   "metadata": {},
   "outputs": [
    {
     "name": "stdout",
     "output_type": "stream",
     "text": [
      "Total number of weights to evolve is: (53714,)\n",
      "Non-trained NN Test accuracy: 0.1571\n",
      "Step 1.0 : -1.6034912718204488 best: -1.6034912718204488 10\n",
      "It took 9.596360042000015 seconds to complete generation 1\n",
      "Step 2.0 : -1.5860349127182045 best: -1.5860349127182045 10\n",
      "It took 9.631854506998934 seconds to complete generation 2\n",
      "Step 3.0 : -1.6359102244389028 best: -1.5860349127182045 10\n",
      "It took 9.632000059998973 seconds to complete generation 3\n",
      "Step 4.0 : -1.6109725685785536 best: -1.5860349127182045 10\n",
      "It took 9.631076171999666 seconds to complete generation 4\n",
      "Step 5.0 : -1.600997506234414 best: -1.5860349127182045 10\n",
      "It took 9.608430697000585 seconds to complete generation 5\n",
      "Step 6.0 : -1.600997506234414 best: -1.5860349127182045 10\n",
      "It took 9.678904500999124 seconds to complete generation 6\n",
      "Step 7.0 : -1.5860349127182045 best: -1.5860349127182045 10\n",
      "It took 9.643454027000189 seconds to complete generation 7\n",
      "Step 8.0 : -1.5785536159600997 best: -1.5785536159600997 10\n",
      "It took 11.121773504000885 seconds to complete generation 8\n",
      "Step 9.0 : -1.598503740648379 best: -1.5785536159600997 10\n",
      "It took 9.618740848998641 seconds to complete generation 9\n",
      "Step 10.0 : -1.6034912718204488 best: -1.5785536159600997 10\n",
      "It took 9.650098186999458 seconds to complete generation 10\n",
      "Step 11.0 : -1.5760598503740648 best: -1.5760598503740648 10\n",
      "It took 9.62877396499971 seconds to complete generation 11\n",
      "Step 12.0 : -1.5810473815461346 best: -1.5760598503740648 10\n",
      "It took 9.695638478999172 seconds to complete generation 12\n",
      "Step 13.0 : -1.5561097256857854 best: -1.5561097256857854 10\n",
      "It took 9.620232401000976 seconds to complete generation 13\n",
      "Step 14.0 : -1.5486284289276808 best: -1.5486284289276808 10\n",
      "It took 9.891236080999079 seconds to complete generation 14\n",
      "Step 15.0 : -1.5885286783042394 best: -1.5486284289276808 10\n",
      "It took 10.337814288001027 seconds to complete generation 15\n",
      "Step 16.0 : -1.5635910224438903 best: -1.5486284289276808 10\n",
      "It took 9.62766791300055 seconds to complete generation 16\n",
      "Step 17.0 : -1.5610972568578554 best: -1.5486284289276808 10\n",
      "It took 9.579113951000181 seconds to complete generation 17\n",
      "Step 18.0 : -1.5561097256857854 best: -1.5486284289276808 10\n",
      "It took 9.661193392999849 seconds to complete generation 18\n",
      "Step 19.0 : -1.5635910224438903 best: -1.5486284289276808 10\n",
      "It took 9.627622091000376 seconds to complete generation 19\n",
      "Step 20.0 : -1.5336658354114714 best: -1.5336658354114714 10\n",
      "It took 10.103814432000945 seconds to complete generation 20\n",
      "Step 21.0 : -1.571072319201995 best: -1.5336658354114714 10\n",
      "It took 9.602002473000539 seconds to complete generation 21\n",
      "Step 22.0 : -1.513715710723192 best: -1.513715710723192 10\n",
      "It took 9.620347448000757 seconds to complete generation 22\n",
      "Step 23.0 : -1.5261845386533666 best: -1.513715710723192 10\n",
      "It took 9.665217409999968 seconds to complete generation 23\n",
      "Step 24.0 : -1.5610972568578554 best: -1.513715710723192 10\n",
      "It took 9.678299044999221 seconds to complete generation 24\n",
      "Step 25.0 : -1.5311720698254363 best: -1.513715710723192 10\n",
      "It took 9.617446285999904 seconds to complete generation 25\n",
      "Step 26.0 : -1.5162094763092269 best: -1.513715710723192 10\n",
      "It took 9.631384407999576 seconds to complete generation 26\n",
      "Step 27.0 : -1.546134663341646 best: -1.513715710723192 10\n",
      "It took 10.173758013999759 seconds to complete generation 27\n",
      "Step 28.0 : -1.5336658354114714 best: -1.513715710723192 10\n",
      "It took 11.351583714000299 seconds to complete generation 28\n",
      "Step 29.0 : -1.5386533665835411 best: -1.513715710723192 10\n",
      "It took 9.635806356000103 seconds to complete generation 29\n",
      "Step 30.0 : -1.541147132169576 best: -1.513715710723192 10\n",
      "It took 9.698817927999698 seconds to complete generation 30\n",
      "Test accuracy on target: 0.1702\n"
     ]
    }
   ],
   "source": [
    "print(\"Total number of weights to evolve is:\", weights.shape)\n",
    "all_examples_indices = list(range(x_train.shape[0]))\n",
    "clf, _ = train_classifier(model, x_train, y_train)\n",
    "y_pred = predict_classifier(model, clf, x_test)\n",
    "\n",
    "test_accuracy = accuracy_score(y_test, y_pred)\n",
    "print('Non-trained NN Test accuracy:', test_accuracy)\n",
    "# print('Test MSE:', test_mse)\n",
    "\n",
    "snes = SNES(weights, 1, POPULATION_SIZE)\n",
    "log = []\n",
    "for i in range(0, GENERATIONS):\n",
    "    start = timer()\n",
    "    asked = snes.ask()\n",
    "\n",
    "    # to be provided back to snes\n",
    "    told = []\n",
    "\n",
    "    # use a small number of training samples for speed purposes\n",
    "    subsample_indices = np.random.choice(all_examples_indices, size=SAMPLE_SIZE, replace=False)\n",
    "    # evaluate on another subset\n",
    "    subsample_indices_valid = np.random.choice(all_examples_indices, size=SAMPLE_SIZE + 1, replace=False)\n",
    "\n",
    "    # iterate over the population\n",
    "    for asked_j in asked:\n",
    "        # set nn weights\n",
    "        nnw.set_weights(asked_j)\n",
    "        # train the label classifer and get back the predictions on the training data\n",
    "        clf, _ = train_classifier(model, x_train[subsample_indices], y_train[subsample_indices])\n",
    "        # train the domain classifier and get back the predictions on the training data\n",
    "        clf2, _ = train_classifier(model, x_domain[subsample_indices], y_domain[subsample_indices])\n",
    "\n",
    "        # calculate the label predictions on a different set\n",
    "        y_pred = predict_classifier(model, clf, x_train[subsample_indices_valid])\n",
    "        score = accuracy_score(y_train[subsample_indices_valid], y_pred)\n",
    "\n",
    "        # calculate the domain predictions on a different set\n",
    "        y_pred2 = predict_classifier(model, clf2, x_domain[subsample_indices_valid])\n",
    "        score2 = accuracy_score(y_domain[subsample_indices_valid], y_pred2)\n",
    "        \n",
    "        # weighted score to give back to snes\n",
    "        total = (score+(2*-score2))\n",
    "        told.append(total)\n",
    "\n",
    "    temp = snes.tell(asked, told)\n",
    "    log.append(temp)\n",
    "    end = timer()\n",
    "    print(\"It took\", end - start, \"seconds to complete generation\", i + 1)\n",
    "    \n",
    "nnw.set_weights(snes.center)\n",
    "\n",
    "# predict on target data\n",
    "clf, _ = train_classifier(model, x_train, y_train)\n",
    "y_pred = predict_classifier(model, clf, x_test)\n",
    "test_accuracy = accuracy_score(y_test, y_pred)\n",
    "print('Test accuracy on target:', test_accuracy)"
   ]
  },
  {
   "cell_type": "code",
   "execution_count": 11,
   "metadata": {},
   "outputs": [
    {
     "data": {
      "image/png": "[encoded data removed]",
      "text/plain": [
       "<matplotlib.figure.Figure at 0x7f1e85c7ea58>"
      ]
     },
     "metadata": {},
     "output_type": "display_data"
    }
   ],
   "source": [
    "# print loss plot\n",
    "plt.plot(log)\n",
    "plt.title('Loss Plot MNIST and MNIST-M')\n",
    "plt.xlabel('generation')\n",
    "plt.ylabel('value')\n",
    "plt.savefig('Plot_mnist_mnistm.png')\n",
    "plt.show()"
   ]
  },
  {
   "cell_type": "code",
   "execution_count": null,
   "metadata": {},
   "outputs": [],
   "source": []
  }
 ],
 "metadata": {
  "kernelspec": {
   "display_name": "Python 3",
   "language": "python",
   "name": "python3"
  },
  "language_info": {
   "codemirror_mode": {
    "name": "ipython",
    "version": 3
   },
   "file_extension": ".py",
   "mimetype": "text/x-python",
   "name": "python",
   "nbconvert_exporter": "python",
   "pygments_lexer": "ipython3",
   "version": "3.5.2"
  }
 },
 "nbformat": 4,
 "nbformat_minor": 2
}
