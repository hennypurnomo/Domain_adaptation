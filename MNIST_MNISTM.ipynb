{
 "cells": [
  {
   "cell_type": "code",
   "execution_count": 1,
   "metadata": {},
   "outputs": [
    {
     "name": "stderr",
     "output_type": "stream",
     "text": [
      "Using TensorFlow backend.\n"
     ]
    }
   ],
   "source": [
    "# this main code by Ssamot from https://github.com/ssamot/infoGA/blob/master/mnist_snes_example.py\n",
    "# plot loss function from https://machinelearningmastery.com/display-deep-learning-model-training-history-in-keras/\n",
    "\n",
    "import pickle as pkl\n",
    "import numpy as np\n",
    "import matplotlib.pyplot as plt\n",
    "\n",
    "from timeit import default_timer as timer\n",
    "from keras import backend as K\n",
    "from keras.datasets import mnist\n",
    "from keras.layers import Conv2D, MaxPooling2D\n",
    "from keras.layers import Dense, Flatten\n",
    "from keras.models import Sequential\n",
    "from sklearn.ensemble import RandomForestClassifier\n",
    "from sklearn.metrics import accuracy_score\n",
    "from keras_helper import NNWeightHelper\n",
    "from keras.utils import np_utils\n",
    "from snes import SNES"
   ]
  },
  {
   "cell_type": "code",
   "execution_count": 2,
   "metadata": {},
   "outputs": [],
   "source": [
    "# use just a small sample of the train set to test\n",
    "SAMPLE_SIZE = 300\n",
    "# how many different sets of weights ask() should return for evaluation\n",
    "POPULATION_SIZE = 10\n",
    "# how many times we will loop over ask()/tell()\n",
    "GENERATIONS = 40"
   ]
  },
  {
   "cell_type": "code",
   "execution_count": 3,
   "metadata": {},
   "outputs": [],
   "source": [
    "def train_classifier(model, X, y):\n",
    "    X_features = model.predict(X)\n",
    "    clf = RandomForestClassifier(n_estimators = 10)\n",
    "    clf.fit(X_features, y)\n",
    "    y_pred = clf.predict(X_features)\n",
    "    return clf, y_pred\n",
    "\n",
    "\n",
    "def predict_classifier(model, clf, X):\n",
    "    X_features = model.predict(X)\n",
    "    return clf.predict(X_features)"
   ]
  },
  {
   "cell_type": "code",
   "execution_count": 4,
   "metadata": {},
   "outputs": [],
   "source": [
    "# input image dimensions\n",
    "img_rows, img_cols = 28, 28\n",
    "num_classes = 10"
   ]
  },
  {
   "cell_type": "code",
   "execution_count": 5,
   "metadata": {},
   "outputs": [],
   "source": [
    "# Load MNIST dataset from keras for source domain\n",
    "(x_train, y_train), (x_test, y_test) = mnist.load_data()\n",
    "x_train = x_train.reshape(60000, 28, 28, 1).astype(np.uint8) * 255\n",
    "x_train = np.concatenate([x_train, x_train, x_train], 3)"
   ]
  },
  {
   "cell_type": "code",
   "execution_count": 6,
   "metadata": {},
   "outputs": [],
   "source": [
    "# Load MNIST-M dataset for target domain\n",
    "mnistm = pkl.load(open('mnistm_data.pkl', 'rb'))\n",
    "mnistm_train = mnistm['train']\n",
    "mnistm_test = mnistm['test']\n",
    "mnistm_valid = mnistm['valid']\n",
    "x_test=mnistm_test"
   ]
  },
  {
   "cell_type": "code",
   "execution_count": 7,
   "metadata": {},
   "outputs": [],
   "source": [
    "# create part data for domain classifier, combination from source and target data\n",
    "x_domain=np.concatenate((x_train,x_test), axis =0)\n",
    "y_domain = np.concatenate((np.zeros(y_train.shape[0]), np.ones(y_test.shape[0])),axis=0)"
   ]
  },
  {
   "cell_type": "code",
   "execution_count": 8,
   "metadata": {},
   "outputs": [],
   "source": [
    "#data normalization\n",
    "x_train = x_train.astype('float32')\n",
    "x_test = x_test.astype('float32')\n",
    "x_train /= 255\n",
    "x_test /= 255"
   ]
  },
  {
   "cell_type": "code",
   "execution_count": 9,
   "metadata": {},
   "outputs": [
    {
     "name": "stdout",
     "output_type": "stream",
     "text": [
      "compilation is over\n"
     ]
    }
   ],
   "source": [
    "# neural network architecture\n",
    "model = Sequential()\n",
    "model.add(Conv2D(32, kernel_size=(3, 3),activation='relu',\n",
    "                 input_shape=(28,28,3)))\n",
    "model.add(MaxPooling2D(pool_size=(2, 2)))\n",
    "model.add(Conv2D(32, (3, 3), activation='relu'))\n",
    "model.add(MaxPooling2D(pool_size=(2, 2)))\n",
    "model.add(Flatten())\n",
    "model.add(Dense(num_classes, activation='relu'))\n",
    "\n",
    "# this is irrelevant for what we want to achieve\n",
    "model.compile(loss=\"mse\", optimizer=\"adam\")\n",
    "print(\"compilation is over\")\n",
    "nnw = NNWeightHelper(model)\n",
    "weights = nnw.get_weights()"
   ]
  },
  {
   "cell_type": "code",
   "execution_count": 10,
   "metadata": {},
   "outputs": [
    {
     "name": "stdout",
     "output_type": "stream",
     "text": [
      "Total number of weights to evolve is: (18154,)\n",
      "Non-trained NN Test accuracy: 0.1369\n",
      "Step 1.0 : -2.6744186046511627 best: -2.6744186046511627 10\n",
      "It took 6.1904061999994155 seconds to complete generation 1\n",
      "Step 2.0 : -2.647840531561462 best: -2.647840531561462 10\n",
      "It took 5.778192820000186 seconds to complete generation 2\n",
      "Step 3.0 : -2.6744186046511627 best: -2.647840531561462 10\n",
      "It took 5.716539399001704 seconds to complete generation 3\n",
      "Step 4.0 : -2.661129568106312 best: -2.647840531561462 10\n",
      "It took 4.464206674998422 seconds to complete generation 4\n",
      "Step 5.0 : -2.681063122923588 best: -2.647840531561462 10\n",
      "It took 5.748341108001114 seconds to complete generation 5\n",
      "Step 6.0 : -2.6511627906976742 best: -2.647840531561462 10\n",
      "It took 6.145840399000008 seconds to complete generation 6\n",
      "Step 7.0 : -2.6279069767441863 best: -2.6279069767441863 10\n",
      "It took 5.507289995000974 seconds to complete generation 7\n",
      "Step 8.0 : -2.5780730897009967 best: -2.5780730897009967 10\n",
      "It took 5.542533429999821 seconds to complete generation 8\n",
      "Step 9.0 : -2.6245847176079735 best: -2.5780730897009967 10\n",
      "It took 5.8736956660013675 seconds to complete generation 9\n",
      "Step 10.0 : -2.6312292358803986 best: -2.5780730897009967 10\n",
      "It took 5.287442209999426 seconds to complete generation 10\n",
      "Step 11.0 : -2.5980066445182723 best: -2.5780730897009967 10\n",
      "It took 5.108124645999851 seconds to complete generation 11\n",
      "Step 12.0 : -2.647840531561462 best: -2.5780730897009967 10\n",
      "It took 6.39470513300148 seconds to complete generation 12\n",
      "Step 13.0 : -2.6312292358803986 best: -2.5780730897009967 10\n",
      "It took 5.595318430001498 seconds to complete generation 13\n",
      "Step 14.0 : -2.5980066445182723 best: -2.5780730897009967 10\n",
      "It took 5.687748512000326 seconds to complete generation 14\n",
      "Step 15.0 : -2.574750830564784 best: -2.574750830564784 10\n",
      "It took 4.500325699000314 seconds to complete generation 15\n",
      "Step 16.0 : -2.574750830564784 best: -2.574750830564784 10\n",
      "It took 4.935230461000174 seconds to complete generation 16\n",
      "Step 17.0 : -2.5714285714285716 best: -2.5714285714285716 10\n",
      "It took 7.94631555199885 seconds to complete generation 17\n",
      "Step 18.0 : -2.5813953488372094 best: -2.5714285714285716 10\n",
      "It took 8.180869092000648 seconds to complete generation 18\n",
      "Step 19.0 : -2.5780730897009967 best: -2.5714285714285716 10\n",
      "It took 9.272462966999228 seconds to complete generation 19\n",
      "Step 20.0 : -2.564784053156146 best: -2.564784053156146 10\n",
      "It took 6.936507240001447 seconds to complete generation 20\n",
      "Step 21.0 : -2.568106312292359 best: -2.564784053156146 10\n",
      "It took 7.659772208999129 seconds to complete generation 21\n",
      "Step 22.0 : -2.617940199335548 best: -2.564784053156146 10\n",
      "It took 6.34316633600065 seconds to complete generation 22\n",
      "Step 23.0 : -2.601328903654485 best: -2.564784053156146 10\n",
      "It took 5.398424772998624 seconds to complete generation 23\n",
      "Step 24.0 : -2.5946843853820596 best: -2.564784053156146 10\n",
      "It took 5.490456854000513 seconds to complete generation 24\n",
      "Step 25.0 : -2.5813953488372094 best: -2.564784053156146 10\n",
      "It took 8.182744960999116 seconds to complete generation 25\n",
      "Step 26.0 : -2.5946843853820596 best: -2.564784053156146 10\n",
      "It took 7.915933758999017 seconds to complete generation 26\n",
      "Step 27.0 : -2.5182724252491693 best: -2.5182724252491693 10\n",
      "It took 5.283114850000857 seconds to complete generation 27\n",
      "Step 28.0 : -2.60797342192691 best: -2.5182724252491693 10\n",
      "It took 4.807019263000257 seconds to complete generation 28\n",
      "Step 29.0 : -2.5847176079734218 best: -2.5182724252491693 10\n",
      "It took 5.136104466000688 seconds to complete generation 29\n",
      "Step 30.0 : -2.6279069767441863 best: -2.5182724252491693 10\n",
      "It took 4.636536313999386 seconds to complete generation 30\n",
      "Step 31.0 : -2.5514950166112955 best: -2.5182724252491693 10\n",
      "It took 5.711945904999084 seconds to complete generation 31\n",
      "Step 32.0 : -2.564784053156146 best: -2.5182724252491693 10\n",
      "It took 5.620913695000127 seconds to complete generation 32\n",
      "Step 33.0 : -2.5714285714285716 best: -2.5182724252491693 10\n",
      "It took 7.3585361469995405 seconds to complete generation 33\n",
      "Step 34.0 : -2.5714285714285716 best: -2.5182724252491693 10\n",
      "It took 7.117637552000815 seconds to complete generation 34\n",
      "Step 35.0 : -2.5847176079734218 best: -2.5182724252491693 10\n",
      "It took 9.828544391000833 seconds to complete generation 35\n",
      "Step 36.0 : -2.558139534883721 best: -2.5182724252491693 10\n",
      "It took 8.231641954000224 seconds to complete generation 36\n",
      "Step 37.0 : -2.5946843853820596 best: -2.5182724252491693 10\n",
      "It took 6.988106581000466 seconds to complete generation 37\n",
      "Step 38.0 : -2.548172757475083 best: -2.5182724252491693 10\n",
      "It took 5.989308043999699 seconds to complete generation 38\n",
      "Step 39.0 : -2.6279069767441863 best: -2.5182724252491693 10\n",
      "It took 5.92410661500071 seconds to complete generation 39\n",
      "Step 40.0 : -2.548172757475083 best: -2.5182724252491693 10\n",
      "It took 6.000529122000444 seconds to complete generation 40\n",
      "Test accuracy on target: 0.1444\n"
     ]
    }
   ],
   "source": [
    "print(\"Total number of weights to evolve is:\", weights.shape)\n",
    "all_examples_indices = list(range(x_train.shape[0]))\n",
    "clf, _ = train_classifier(model, x_train, y_train)\n",
    "y_pred = predict_classifier(model, clf, x_test)\n",
    "\n",
    "test_accuracy = accuracy_score(y_test, y_pred)\n",
    "print('Non-trained NN Test accuracy:', test_accuracy)\n",
    "# print('Test MSE:', test_mse)\n",
    "\n",
    "snes = SNES(weights, 1, POPULATION_SIZE)\n",
    "p = []\n",
    "for i in range(0, GENERATIONS):\n",
    "    start = timer()\n",
    "    asked = snes.ask()\n",
    "\n",
    "    # to be provided back to snes\n",
    "    told = []\n",
    "\n",
    "    # use a small number of training samples for speed purposes\n",
    "    subsample_indices = np.random.choice(all_examples_indices, size=SAMPLE_SIZE, replace=False)\n",
    "    # evaluate on another subset\n",
    "    subsample_indices_valid = np.random.choice(all_examples_indices, size=SAMPLE_SIZE + 1, replace=False)\n",
    "\n",
    "    # iterate over the population\n",
    "    for asked_j in asked:\n",
    "        # set nn weights\n",
    "        nnw.set_weights(asked_j)\n",
    "        # train the label classifer and get back the predictions on the training data\n",
    "        clf, _ = train_classifier(model, x_train[subsample_indices], y_train[subsample_indices])\n",
    "        # train the domain classifier and get back the predictions on the training data\n",
    "        clf2, _ = train_classifier(model, x_domain[subsample_indices], y_domain[subsample_indices])\n",
    "\n",
    "        # calculate the label predictions on a different set\n",
    "        y_pred = predict_classifier(model, clf, x_train[subsample_indices_valid])\n",
    "        score = accuracy_score(y_train[subsample_indices_valid], y_pred)\n",
    "\n",
    "        # calculate the domain predictions on a different set\n",
    "        y_pred2 = predict_classifier(model, clf2, x_domain[subsample_indices_valid])\n",
    "        score2 = accuracy_score(y_domain[subsample_indices_valid], y_pred2)\n",
    "        \n",
    "        # weighted score to give back to snes\n",
    "        total = (score - (3*score2))\n",
    "        told.append(total)\n",
    "\n",
    "    temp = snes.tell(asked, told)\n",
    "    p.append(temp)\n",
    "    end = timer()\n",
    "    print(\"It took\", end - start, \"seconds to complete generation\", i + 1)\n",
    "    \n",
    "nnw.set_weights(snes.center)\n",
    "\n",
    "# predict on target data\n",
    "clf, _ = train_classifier(model, x_train, y_train)\n",
    "y_pred = predict_classifier(model, clf, x_test)\n",
    "test_accuracy = accuracy_score(y_test, y_pred)\n",
    "print('Test accuracy on target:', test_accuracy)"
   ]
  },
  {
   "cell_type": "code",
   "execution_count": 11,
   "metadata": {},
   "outputs": [
    {
     "data": {
      "image/png": "[encoded data removed]",
      "text/plain": [
       "<matplotlib.figure.Figure at 0x7fa523de6b00>"
      ]
     },
     "metadata": {},
     "output_type": "display_data"
    }
   ],
   "source": [
    "# print loss plot\n",
    "plt.plot(p)\n",
    "plt.title('Loss Plot')\n",
    "plt.xlabel('generation')\n",
    "plt.ylabel('value')\n",
    "plt.show()"
   ]
  },
  {
   "cell_type": "code",
   "execution_count": null,
   "metadata": {},
   "outputs": [],
   "source": []
  }
 ],
 "metadata": {
  "kernelspec": {
   "display_name": "Python 3",
   "language": "python",
   "name": "python3"
  },
  "language_info": {
   "codemirror_mode": {
    "name": "ipython",
    "version": 3
   },
   "file_extension": ".py",
   "mimetype": "text/x-python",
   "name": "python",
   "nbconvert_exporter": "python",
   "pygments_lexer": "ipython3",
   "version": "3.5.2"
  }
 },
 "nbformat": 4,
 "nbformat_minor": 2
}
